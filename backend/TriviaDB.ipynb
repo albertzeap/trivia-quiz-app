{
 "cells": [
  {
   "cell_type": "code",
   "execution_count": 1,
   "metadata": {},
   "outputs": [],
   "source": [
    "import pymongo\n",
    "import pandas\n",
    "import seaborn\n",
    "import re\n"
   ]
  },
  {
   "cell_type": "code",
   "execution_count": 2,
   "metadata": {},
   "outputs": [],
   "source": [
    "client = pymongo.MongoClient(\"mongodb://localhost:27017/\")\n",
    "db = client[\"trivia_bank\"]\n",
    "setOneCollection = db['Set_One']\n",
    "setTwoCollection = db['Set_Two']\n",
    "usersCollection = db['Users']\n"
   ]
  },
  {
   "cell_type": "code",
   "execution_count": 3,
   "metadata": {},
   "outputs": [
    {
     "data": {
      "text/plain": [
       "'Email_1'"
      ]
     },
     "execution_count": 3,
     "metadata": {},
     "output_type": "execute_result"
    }
   ],
   "source": [
    "setOneCollection.create_index(\"Question\", unique= True)\n",
    "setTwoCollection.create_index(\"Question\", unique= True)\n",
    "usersCollection.create_index(\"Username\", unique=True)\n",
    "usersCollection.create_index(\"Email\", unique= True)\n"
   ]
  },
  {
   "cell_type": "code",
   "execution_count": 4,
   "metadata": {},
   "outputs": [],
   "source": [
    "setOne = [\n",
    "   { \n",
    "       \"Question\": \"What color is the sky?\", \n",
    "        \"Answer\": \"Blue\",\n",
    "   }, \n",
    "   {\n",
    "       \"Question\": \"What is Texas' state flower?\", \n",
    "       \"Answer\": \"Bluebonnet\", \n",
    "   },\n",
    "   {\n",
    "       \"Question\": \"What is the largest bone in the human body?\",\n",
    "       \"Answer\": \"Femur\",\n",
    "   }\n",
    "]"
   ]
  },
  {
   "cell_type": "code",
   "execution_count": 5,
   "metadata": {},
   "outputs": [],
   "source": [
    "setTwo = [\n",
    "    {\n",
    "        \"Question\": \"Who was the youngest U.S President?\", \n",
    "        \"Answer\": \"Theodore Roosevelt\",\n",
    "    },\n",
    "    {\n",
    "        \"Question\": \"When was the first Ipod released?\",\n",
    "        \"Answer\": 2001,\n",
    "    },\n",
    "    {\n",
    "        \"Question\": \"What president was a liscensed bartender\", \n",
    "        \"Answer\": \"Abraham Lincoln\",\n",
    "    }\n",
    "]"
   ]
  },
  {
   "cell_type": "code",
   "execution_count": 6,
   "metadata": {},
   "outputs": [],
   "source": [
    "users = [\n",
    "    {\n",
    "        \"FirstName\" : \"Max\",\n",
    "        \"LastName\" : \"Well\",\n",
    "        \"Username\" : \"max_well\",\n",
    "        \"Password\" : \"password123\",\n",
    "        \"Email\" : \"max.well@example.com\", \n",
    "    },\n",
    "    {\n",
    "        \"FirstName\" : \"Maya\",\n",
    "        \"LastName\" : \"Rose\",\n",
    "        \"Username\" : \"maya_rose\",\n",
    "        \"Password\" : \"password321\",\n",
    "        \"Email\" : \"maya.rose@example.com\", \n",
    "    }\n",
    "]    "
   ]
  },
  {
   "cell_type": "code",
   "execution_count": 7,
   "metadata": {},
   "outputs": [
    {
     "name": "stdout",
     "output_type": "stream",
     "text": [
      "Set One Data inserted successfully.\n"
     ]
    }
   ],
   "source": [
    "try:\n",
    "    setOneCollection.insert_many(setOne)\n",
    "    print(\"Set One Data inserted successfully.\")\n",
    "except Exception as E:\n",
    "    if re.search('duplicate key', str(E)):\n",
    "        print(\"*Attempted to insert duplicate key(s)*\")\n",
    "    else:\n",
    "        print(str(E))"
   ]
  },
  {
   "cell_type": "code",
   "execution_count": 8,
   "metadata": {},
   "outputs": [
    {
     "name": "stdout",
     "output_type": "stream",
     "text": [
      "Set Two Data inserted successfully.\n"
     ]
    }
   ],
   "source": [
    "try:\n",
    "    setTwoCollection.insert_many(setTwo)\n",
    "    print(\"Set Two Data inserted successfully.\")\n",
    "except Exception as E:\n",
    "    if re.search('duplicate key', str(E)):\n",
    "        print(\"*Attempted to insert duplicate key(s)*\")\n",
    "    else:\n",
    "        print(str(E))"
   ]
  },
  {
   "cell_type": "code",
   "execution_count": 9,
   "metadata": {},
   "outputs": [
    {
     "name": "stdout",
     "output_type": "stream",
     "text": [
      "User Data inserted successfully.\n"
     ]
    }
   ],
   "source": [
    "try:\n",
    "    usersCollection.insert_many(users)\n",
    "    print(\"User Data inserted successfully.\")\n",
    "except Exception as E:\n",
    "    if re.search('duplicate key', str(E)):\n",
    "        print(\"*Attempted to insert duplicate key(s)*\")\n",
    "    else:\n",
    "        print(str(E))"
   ]
  },
  {
   "cell_type": "code",
   "execution_count": 10,
   "metadata": {},
   "outputs": [],
   "source": [
    "setOneDocuments = setOneCollection.find({})\n",
    "setTwoDocuments = setTwoCollection.find({})\n",
    "usersDocuments = usersCollection.find({})"
   ]
  },
  {
   "cell_type": "code",
   "execution_count": 11,
   "metadata": {},
   "outputs": [
    {
     "data": {
      "text/html": [
       "<div>\n",
       "<style scoped>\n",
       "    .dataframe tbody tr th:only-of-type {\n",
       "        vertical-align: middle;\n",
       "    }\n",
       "\n",
       "    .dataframe tbody tr th {\n",
       "        vertical-align: top;\n",
       "    }\n",
       "\n",
       "    .dataframe thead th {\n",
       "        text-align: right;\n",
       "    }\n",
       "</style>\n",
       "<table border=\"1\" class=\"dataframe\">\n",
       "  <thead>\n",
       "    <tr style=\"text-align: right;\">\n",
       "      <th></th>\n",
       "      <th>_id</th>\n",
       "      <th>Question</th>\n",
       "      <th>Answer</th>\n",
       "    </tr>\n",
       "  </thead>\n",
       "  <tbody>\n",
       "    <tr>\n",
       "      <th>0</th>\n",
       "      <td>64e62227d5da810c5ee29892</td>\n",
       "      <td>What color is the sky?</td>\n",
       "      <td>Blue</td>\n",
       "    </tr>\n",
       "    <tr>\n",
       "      <th>1</th>\n",
       "      <td>64e62227d5da810c5ee29893</td>\n",
       "      <td>What is Texas' state flower?</td>\n",
       "      <td>Bluebonnet</td>\n",
       "    </tr>\n",
       "    <tr>\n",
       "      <th>2</th>\n",
       "      <td>64e62227d5da810c5ee29894</td>\n",
       "      <td>What is the largest bone in the human body?</td>\n",
       "      <td>Femur</td>\n",
       "    </tr>\n",
       "  </tbody>\n",
       "</table>\n",
       "</div>"
      ],
      "text/plain": [
       "                        _id                                     Question   \n",
       "0  64e62227d5da810c5ee29892                       What color is the sky?  \\\n",
       "1  64e62227d5da810c5ee29893                 What is Texas' state flower?   \n",
       "2  64e62227d5da810c5ee29894  What is the largest bone in the human body?   \n",
       "\n",
       "       Answer  \n",
       "0        Blue  \n",
       "1  Bluebonnet  \n",
       "2       Femur  "
      ]
     },
     "execution_count": 11,
     "metadata": {},
     "output_type": "execute_result"
    }
   ],
   "source": [
    "pandas.DataFrame(list(setOneDocuments))"
   ]
  },
  {
   "cell_type": "code",
   "execution_count": 12,
   "metadata": {},
   "outputs": [
    {
     "data": {
      "text/html": [
       "<div>\n",
       "<style scoped>\n",
       "    .dataframe tbody tr th:only-of-type {\n",
       "        vertical-align: middle;\n",
       "    }\n",
       "\n",
       "    .dataframe tbody tr th {\n",
       "        vertical-align: top;\n",
       "    }\n",
       "\n",
       "    .dataframe thead th {\n",
       "        text-align: right;\n",
       "    }\n",
       "</style>\n",
       "<table border=\"1\" class=\"dataframe\">\n",
       "  <thead>\n",
       "    <tr style=\"text-align: right;\">\n",
       "      <th></th>\n",
       "      <th>_id</th>\n",
       "      <th>Question</th>\n",
       "      <th>Answer</th>\n",
       "    </tr>\n",
       "  </thead>\n",
       "  <tbody>\n",
       "    <tr>\n",
       "      <th>0</th>\n",
       "      <td>64e62227d5da810c5ee29895</td>\n",
       "      <td>Who was the youngest U.S President?</td>\n",
       "      <td>Theodore Roosevelt</td>\n",
       "    </tr>\n",
       "    <tr>\n",
       "      <th>1</th>\n",
       "      <td>64e62227d5da810c5ee29896</td>\n",
       "      <td>When was the first Ipod released?</td>\n",
       "      <td>2001</td>\n",
       "    </tr>\n",
       "    <tr>\n",
       "      <th>2</th>\n",
       "      <td>64e62227d5da810c5ee29897</td>\n",
       "      <td>What president was a liscensed bartender</td>\n",
       "      <td>Abraham Lincoln</td>\n",
       "    </tr>\n",
       "  </tbody>\n",
       "</table>\n",
       "</div>"
      ],
      "text/plain": [
       "                        _id                                  Question   \n",
       "0  64e62227d5da810c5ee29895       Who was the youngest U.S President?  \\\n",
       "1  64e62227d5da810c5ee29896         When was the first Ipod released?   \n",
       "2  64e62227d5da810c5ee29897  What president was a liscensed bartender   \n",
       "\n",
       "               Answer  \n",
       "0  Theodore Roosevelt  \n",
       "1                2001  \n",
       "2     Abraham Lincoln  "
      ]
     },
     "execution_count": 12,
     "metadata": {},
     "output_type": "execute_result"
    }
   ],
   "source": [
    "pandas.DataFrame(list(setTwoDocuments))"
   ]
  },
  {
   "cell_type": "code",
   "execution_count": 13,
   "metadata": {},
   "outputs": [
    {
     "data": {
      "text/html": [
       "<div>\n",
       "<style scoped>\n",
       "    .dataframe tbody tr th:only-of-type {\n",
       "        vertical-align: middle;\n",
       "    }\n",
       "\n",
       "    .dataframe tbody tr th {\n",
       "        vertical-align: top;\n",
       "    }\n",
       "\n",
       "    .dataframe thead th {\n",
       "        text-align: right;\n",
       "    }\n",
       "</style>\n",
       "<table border=\"1\" class=\"dataframe\">\n",
       "  <thead>\n",
       "    <tr style=\"text-align: right;\">\n",
       "      <th></th>\n",
       "      <th>_id</th>\n",
       "      <th>FirstName</th>\n",
       "      <th>LastName</th>\n",
       "      <th>Username</th>\n",
       "      <th>Password</th>\n",
       "      <th>Email</th>\n",
       "    </tr>\n",
       "  </thead>\n",
       "  <tbody>\n",
       "    <tr>\n",
       "      <th>0</th>\n",
       "      <td>64e62227d5da810c5ee29898</td>\n",
       "      <td>Max</td>\n",
       "      <td>Well</td>\n",
       "      <td>max_well</td>\n",
       "      <td>password123</td>\n",
       "      <td>max.well@example.com</td>\n",
       "    </tr>\n",
       "    <tr>\n",
       "      <th>1</th>\n",
       "      <td>64e62227d5da810c5ee29899</td>\n",
       "      <td>Maya</td>\n",
       "      <td>Rose</td>\n",
       "      <td>maya_rose</td>\n",
       "      <td>password321</td>\n",
       "      <td>maya.rose@example.com</td>\n",
       "    </tr>\n",
       "  </tbody>\n",
       "</table>\n",
       "</div>"
      ],
      "text/plain": [
       "                        _id FirstName LastName   Username     Password   \n",
       "0  64e62227d5da810c5ee29898       Max     Well   max_well  password123  \\\n",
       "1  64e62227d5da810c5ee29899      Maya     Rose  maya_rose  password321   \n",
       "\n",
       "                   Email  \n",
       "0   max.well@example.com  \n",
       "1  maya.rose@example.com  "
      ]
     },
     "execution_count": 13,
     "metadata": {},
     "output_type": "execute_result"
    }
   ],
   "source": [
    "pandas.DataFrame(list(usersDocuments))"
   ]
  }
 ],
 "metadata": {
  "interpreter": {
   "hash": "b0fa6594d8f4cbf19f97940f81e996739fb7646882a419484c72d19e05852a7e"
  },
  "kernelspec": {
   "display_name": "Python 3.11.4 64-bit",
   "language": "python",
   "name": "python3"
  },
  "language_info": {
   "codemirror_mode": {
    "name": "ipython",
    "version": 3
   },
   "file_extension": ".py",
   "mimetype": "text/x-python",
   "name": "python",
   "nbconvert_exporter": "python",
   "pygments_lexer": "ipython3",
   "version": "3.11.4"
  },
  "orig_nbformat": 4
 },
 "nbformat": 4,
 "nbformat_minor": 2
}
